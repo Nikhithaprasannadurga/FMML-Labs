{
  "cells": [
    {
      "cell_type": "markdown",
      "metadata": {
        "id": "view-in-github",
        "colab_type": "text"
      },
      "source": [
        "<a href=\"https://colab.research.google.com/github/Nikhithaprasannadurga/FMML-Labs/blob/main/FMML_M1L2.ipynb\" target=\"_parent\"><img src=\"https://colab.research.google.com/assets/colab-badge.svg\" alt=\"Open In Colab\"/></a>"
      ]
    },
    {
      "cell_type": "markdown",
      "metadata": {
        "id": "3Eu9VZbF01eq"
      },
      "source": [
        "# Machine Learning terms and metrics\n",
        "\n",
        "FMML Module 1, Lab 2\n",
        "\n",
        "In this lab, we will show a part of the ML pipeline by using the California Housing dataset. There are 20640 samples, each with 8 attributes like income of the block, age of the houses per district etc. The task is to predict the cost of the houses per district. We will use the scikit-learn library to load the data and perform some basic data preprocessing and model training. We will also show how to evaluate the model using some common metrics, split the data into training and testing sets, and use cross-validation to get a better estimate of the model's performance."
      ]
    },
    {
      "cell_type": "code",
      "execution_count": 1,
      "metadata": {
        "id": "8qBvyEem0vLi"
      },
      "outputs": [],
      "source": [
        "import numpy as np\n",
        "from sklearn import datasets\n",
        "import matplotlib.pyplot as plt\n",
        "\n",
        "rng = np.random.default_rng(seed=42)"
      ]
    },
    {
      "cell_type": "code",
      "execution_count": 3,
      "metadata": {
        "colab": {
          "base_uri": "https://localhost:8080/"
        },
        "id": "8LpqjN991GGJ",
        "outputId": "c490fa92-3a7d-4109-f98f-5e42d9daf151"
      },
      "outputs": [
        {
          "output_type": "stream",
          "name": "stdout",
          "text": [
            ".. _california_housing_dataset:\n",
            "\n",
            "California Housing dataset\n",
            "--------------------------\n",
            "\n",
            "**Data Set Characteristics:**\n",
            "\n",
            ":Number of Instances: 20640\n",
            "\n",
            ":Number of Attributes: 8 numeric, predictive attributes and the target\n",
            "\n",
            ":Attribute Information:\n",
            "    - MedInc        median income in block group\n",
            "    - HouseAge      median house age in block group\n",
            "    - AveRooms      average number of rooms per household\n",
            "    - AveBedrms     average number of bedrooms per household\n",
            "    - Population    block group population\n",
            "    - AveOccup      average number of household members\n",
            "    - Latitude      block group latitude\n",
            "    - Longitude     block group longitude\n",
            "\n",
            ":Missing Attribute Values: None\n",
            "\n",
            "This dataset was obtained from the StatLib repository.\n",
            "https://www.dcc.fc.up.pt/~ltorgo/Regression/cal_housing.html\n",
            "\n",
            "The target variable is the median house value for California districts,\n",
            "expressed in hundreds of thousands of dollars ($100,000).\n",
            "\n",
            "This dataset was derived from the 1990 U.S. census, using one row per census\n",
            "block group. A block group is the smallest geographical unit for which the U.S.\n",
            "Census Bureau publishes sample data (a block group typically has a population\n",
            "of 600 to 3,000 people).\n",
            "\n",
            "A household is a group of people residing within a home. Since the average\n",
            "number of rooms and bedrooms in this dataset are provided per household, these\n",
            "columns may take surprisingly large values for block groups with few households\n",
            "and many empty houses, such as vacation resorts.\n",
            "\n",
            "It can be downloaded/loaded using the\n",
            ":func:`sklearn.datasets.fetch_california_housing` function.\n",
            "\n",
            ".. rubric:: References\n",
            "\n",
            "- Pace, R. Kelley and Ronald Barry, Sparse Spatial Autoregressions,\n",
            "  Statistics and Probability Letters, 33 (1997) 291-297\n",
            "\n"
          ]
        }
      ],
      "source": [
        "dataset = datasets.fetch_california_housing()\n",
        "# Dataset description\n",
        "print(dataset.DESCR)"
      ]
    },
    {
      "cell_type": "markdown",
      "metadata": {
        "id": "PCe1VNftevgE"
      },
      "source": [
        "Given below are the list of target values. These correspond to the house value derived considering all the 8 input features and are continuous values. We should use regression models to predict these values but we will start with a simple classification model for the sake of simplicity. We need to just round off the values to the nearest integer and use a classification model to predict the house value."
      ]
    },
    {
      "cell_type": "code",
      "execution_count": 4,
      "metadata": {
        "colab": {
          "base_uri": "https://localhost:8080/"
        },
        "id": "F8K0ggBOevgE",
        "outputId": "192d6a9c-2dda-42a1-e5d8-995368515dfe"
      },
      "outputs": [
        {
          "output_type": "stream",
          "name": "stdout",
          "text": [
            "Orignal target values: [4.526 3.585 3.521 ... 0.923 0.847 0.894]\n",
            "Target values after conversion: [4 3 3 ... 0 0 0]\n",
            "Input variables shape: (20640, 8)\n",
            "Output variables shape: (20640,)\n"
          ]
        }
      ],
      "source": [
        "print(\"Orignal target values:\", dataset.target)\n",
        "\n",
        "dataset.target = dataset.target.astype(int)\n",
        "\n",
        "print(\"Target values after conversion:\", dataset.target)\n",
        "print(\"Input variables shape:\", dataset.data.shape)\n",
        "print(\"Output variables shape:\", dataset.target.shape)"
      ]
    },
    {
      "cell_type": "markdown",
      "metadata": {
        "id": "iNx4174W5xRg"
      },
      "source": [
        "The simplest model to use for classification is the K-Nearest Neighbors model. We will use this model to predict the house value with a K value of 1. We will also use the accuracy metric to evaluate the model."
      ]
    },
    {
      "cell_type": "code",
      "execution_count": 5,
      "metadata": {
        "id": "07zpydQj1hIQ"
      },
      "outputs": [],
      "source": [
        "def NN1(traindata, trainlabel, query):\n",
        "    \"\"\"\n",
        "    This function takes in the training data, training labels and a query point\n",
        "    and returns the predicted label for the query point using the nearest neighbour algorithm\n",
        "\n",
        "    traindata: numpy array of shape (n,d) where n is the number of samples and d is the number of features\n",
        "    trainlabel: numpy array of shape (n,) where n is the number of samples\n",
        "    query: numpy array of shape (d,) where d is the number of features\n",
        "\n",
        "    returns: the predicted label for the query point which is the label of the training data which is closest to the query point\n",
        "    \"\"\"\n",
        "    diff = (\n",
        "        traindata - query\n",
        "    )  # find the difference between features. Numpy automatically takes care of the size here\n",
        "    sq = diff * diff  # square the differences\n",
        "    dist = sq.sum(1)  # add up the squares\n",
        "    label = trainlabel[np.argmin(dist)]\n",
        "    return label\n",
        "\n",
        "\n",
        "def NN(traindata, trainlabel, testdata):\n",
        "    \"\"\"\n",
        "    This function takes in the training data, training labels and test data\n",
        "    and returns the predicted labels for the test data using the nearest neighbour algorithm\n",
        "\n",
        "    traindata: numpy array of shape (n,d) where n is the number of samples and d is the number of features\n",
        "    trainlabel: numpy array of shape (n,) where n is the number of samples\n",
        "    testdata: numpy array of shape (m,d) where m is the number of test samples and d is the number of features\n",
        "\n",
        "    returns: the predicted labels for the test data which is the label of the training data which is closest to each test point\n",
        "    \"\"\"\n",
        "    predlabel = np.array([NN1(traindata, trainlabel, i) for i in testdata])\n",
        "    return predlabel"
      ]
    },
    {
      "cell_type": "markdown",
      "metadata": {
        "id": "03JktkfIGaje"
      },
      "source": [
        "We will also define a 'random classifier', which randomly allots labels to each sample"
      ]
    },
    {
      "cell_type": "code",
      "execution_count": 6,
      "metadata": {
        "id": "fogWAtjyGhAH"
      },
      "outputs": [],
      "source": [
        "def RandomClassifier(traindata, trainlabel, testdata):\n",
        "    \"\"\"\n",
        "    This function takes in the training data, training labels and test data\n",
        "    and returns the predicted labels for the test data using the random classifier algorithm\n",
        "\n",
        "    In reality, we don't need these arguments but we are passing them to keep the function signature consistent with other classifiers\n",
        "\n",
        "    traindata: numpy array of shape (n,d) where n is the number of samples and d is the number of features\n",
        "    trainlabel: numpy array of shape (n,) where n is the number of samples\n",
        "    testdata: numpy array of shape (m,d) where m is the number of test samples and d is the number of features\n",
        "\n",
        "    returns: the predicted labels for the test data which is a random label from the training data\n",
        "    \"\"\"\n",
        "\n",
        "    classes = np.unique(trainlabel)\n",
        "    rints = rng.integers(low=0, high=len(classes), size=len(testdata))\n",
        "    predlabel = classes[rints]\n",
        "    return predlabel"
      ]
    },
    {
      "cell_type": "markdown",
      "metadata": {
        "id": "1Hjf1KHs7fU5"
      },
      "source": [
        "We need a metric to evaluate the performance of the model. Let us define a metric 'Accuracy' to see how good our learning algorithm is. Accuracy is the ratio of the number of correctly classified samples to the total number of samples. The higher the accuracy, the better the algorithm. We will use the accuracy metric to evaluate and compate the performance of the K-Nearest Neighbors model and the random classifier."
      ]
    },
    {
      "cell_type": "code",
      "execution_count": 7,
      "metadata": {
        "id": "ouuCqWU07bz-"
      },
      "outputs": [],
      "source": [
        "def Accuracy(gtlabel, predlabel):\n",
        "    \"\"\"\n",
        "    This function takes in the ground-truth labels and predicted labels\n",
        "    and returns the accuracy of the classifier\n",
        "\n",
        "    gtlabel: numpy array of shape (n,) where n is the number of samples\n",
        "    predlabel: numpy array of shape (n,) where n is the number of samples\n",
        "\n",
        "    returns: the accuracy of the classifier which is the number of correct predictions divided by the total number of predictions\n",
        "    \"\"\"\n",
        "    assert len(gtlabel) == len(\n",
        "        predlabel\n",
        "    ), \"Length of the ground-truth labels and predicted labels should be the same\"\n",
        "    correct = (\n",
        "        gtlabel == predlabel\n",
        "    ).sum()  # count the number of times the groundtruth label is equal to the predicted label.\n",
        "    return correct / len(gtlabel)"
      ]
    },
    {
      "cell_type": "markdown",
      "metadata": {
        "id": "4vJFwBFa9Klw"
      },
      "source": [
        "Let us make a function to split the dataset with the desired probability. We will use this function to split the dataset into training and testing sets. We will use the training set to train the model and the testing set to evaluate the model."
      ]
    },
    {
      "cell_type": "code",
      "execution_count": 8,
      "metadata": {
        "id": "Ko0VzpSM2Tdi"
      },
      "outputs": [],
      "source": [
        "def split(data, label, percent):\n",
        "    # generate a random number for each sample\n",
        "    rnd = rng.random(len(label))\n",
        "    split1 = rnd < percent\n",
        "    split2 = rnd >= percent\n",
        "\n",
        "    split1data = data[split1, :]\n",
        "    split1label = label[split1]\n",
        "    split2data = data[split2, :]\n",
        "    split2label = label[split2]\n",
        "    return split1data, split1label, split2data, split2label"
      ]
    },
    {
      "cell_type": "markdown",
      "metadata": {
        "id": "AcK3LEAJ_LGC"
      },
      "source": [
        "We will reserve 20% of our dataset as the test set. We will not change this portion throughout our experiments"
      ]
    },
    {
      "cell_type": "code",
      "execution_count": 9,
      "metadata": {
        "colab": {
          "base_uri": "https://localhost:8080/"
        },
        "id": "bBZkHBLJ1iU-",
        "outputId": "7fe1cdc5-733f-4b9d-f612-acbf599857e5"
      },
      "outputs": [
        {
          "output_type": "stream",
          "name": "stdout",
          "text": [
            "Number of test samples: 4144\n",
            "Number of train samples: 16496\n",
            "Percent of test data: 20.07751937984496 %\n"
          ]
        }
      ],
      "source": [
        "testdata, testlabel, alltraindata, alltrainlabel = split(\n",
        "    dataset.data, dataset.target, 20 / 100\n",
        ")\n",
        "print(\"Number of test samples:\", len(testlabel))\n",
        "print(\"Number of train samples:\", len(alltrainlabel))\n",
        "print(\"Percent of test data:\", len(testlabel) * 100 / len(dataset.target), \"%\")"
      ]
    },
    {
      "cell_type": "markdown",
      "metadata": {
        "id": "a6Ss0Z6IAGNV"
      },
      "source": [
        "## Experiments with splits\n",
        "\n",
        "Let us reserve some of our train data as a validation set"
      ]
    },
    {
      "cell_type": "code",
      "execution_count": 10,
      "metadata": {
        "id": "WFew2iry_7W7"
      },
      "outputs": [],
      "source": [
        "traindata, trainlabel, valdata, vallabel = split(\n",
        "    alltraindata, alltrainlabel, 75 / 100)"
      ]
    },
    {
      "cell_type": "markdown",
      "metadata": {
        "id": "60hiu4clFN1i"
      },
      "source": [
        "What is the accuracy of our classifiers on the train dataset?"
      ]
    },
    {
      "cell_type": "code",
      "execution_count": 11,
      "metadata": {
        "colab": {
          "base_uri": "https://localhost:8080/"
        },
        "id": "DBlZDTHUFTZx",
        "outputId": "b256205c-4f49-4381-ddde-603447cddf2a"
      },
      "outputs": [
        {
          "output_type": "stream",
          "name": "stdout",
          "text": [
            "Training accuracy using nearest neighbour algorithm: 100.0 %\n",
            "Training accuracy using random classifier:  16.4375808538163 %\n"
          ]
        }
      ],
      "source": [
        "trainpred = NN(traindata, trainlabel, traindata)\n",
        "trainAccuracy = Accuracy(trainlabel, trainpred)\n",
        "print(\"Training accuracy using nearest neighbour algorithm:\", trainAccuracy*100, \"%\")\n",
        "\n",
        "trainpred = RandomClassifier(traindata, trainlabel, traindata)\n",
        "trainAccuracy = Accuracy(trainlabel, trainpred)\n",
        "print(\"Training accuracy using random classifier: \", trainAccuracy*100, \"%\")"
      ]
    },
    {
      "cell_type": "markdown",
      "metadata": {
        "id": "7h08-9gJDtSy"
      },
      "source": [
        "For nearest neighbour, the train accuracy is always 1. The accuracy of the random classifier is close to 1/(number of classes) which is 0.1666 in our case. This is because the random classifier randomly assigns a label to each sample and the probability of assigning the correct label is 1/(number of classes). Let us predict the labels for our validation set and get the accuracy. This accuracy is a good estimate of the accuracy of our model on unseen data."
      ]
    },
    {
      "cell_type": "code",
      "execution_count": 12,
      "metadata": {
        "colab": {
          "base_uri": "https://localhost:8080/"
        },
        "id": "4h7bXoW_2H3v",
        "outputId": "c8b193bc-a80d-459e-bc5d-7b09863e9755"
      },
      "outputs": [
        {
          "output_type": "stream",
          "name": "stdout",
          "text": [
            "Validation accuracy using nearest neighbour algorithm: 34.10852713178294 %\n",
            "Validation accuracy using random classifier: 16.884689922480618 %\n"
          ]
        }
      ],
      "source": [
        "valpred = NN(traindata, trainlabel, valdata)\n",
        "valAccuracy = Accuracy(vallabel, valpred)\n",
        "print(\"Validation accuracy using nearest neighbour algorithm:\", valAccuracy*100, \"%\")\n",
        "\n",
        "\n",
        "valpred = RandomClassifier(traindata, trainlabel, valdata)\n",
        "valAccuracy = Accuracy(vallabel, valpred)\n",
        "print(\"Validation accuracy using random classifier:\", valAccuracy*100, \"%\")"
      ]
    },
    {
      "cell_type": "markdown",
      "metadata": {
        "id": "py9bLguFEjfg"
      },
      "source": [
        "Validation accuracy of nearest neighbour is considerably less than its train accuracy while the validation accuracy of random classifier is the same. However, the validation accuracy of nearest neighbour is twice that of the random classifier. Now let us try another random split and check the validation accuracy. We will see that the validation accuracy changes with the split. This is because the validation set is small and the accuracy is highly dependent on the samples in the validation set. We can get a better estimate of the accuracy by using cross-validation."
      ]
    },
    {
      "cell_type": "code",
      "execution_count": 13,
      "metadata": {
        "colab": {
          "base_uri": "https://localhost:8080/"
        },
        "id": "ujm3cyYzEntE",
        "outputId": "b779b681-b93e-440e-b6ae-929c43915470"
      },
      "outputs": [
        {
          "output_type": "stream",
          "name": "stdout",
          "text": [
            "Validation accuracy using nearest neighbour algorithm: 34.048257372654156 %\n"
          ]
        }
      ],
      "source": [
        "traindata, trainlabel, valdata, vallabel = split(\n",
        "    alltraindata, alltrainlabel, 75 / 100)\n",
        "valpred = NN(traindata, trainlabel, valdata)\n",
        "valAccuracy = Accuracy(vallabel, valpred)\n",
        "print(\"Validation accuracy using nearest neighbour algorithm:\", valAccuracy*100, \"%\")"
      ]
    },
    {
      "cell_type": "markdown",
      "metadata": {
        "id": "oSOx7U83EKie"
      },
      "source": [
        "You can run the above cell multiple times to try with different random splits.\n",
        "We notice that the accuracy is different for each run, but close together.\n",
        "\n",
        "Now let us compare it with the accuracy we get on the test dataset."
      ]
    },
    {
      "cell_type": "code",
      "execution_count": 14,
      "metadata": {
        "colab": {
          "base_uri": "https://localhost:8080/"
        },
        "id": "PNEZ5ToYBEDW",
        "outputId": "c1423b0e-a7fa-41ef-d3bc-67d62c177fac"
      },
      "outputs": [
        {
          "output_type": "stream",
          "name": "stdout",
          "text": [
            "Test accuracy: 34.91795366795367 %\n"
          ]
        }
      ],
      "source": [
        "testpred = NN(alltraindata, alltrainlabel, testdata)\n",
        "testAccuracy = Accuracy(testlabel, testpred)\n",
        "\n",
        "print(\"Test accuracy:\", testAccuracy*100, \"%\")"
      ]
    },
    {
      "cell_type": "markdown",
      "metadata": {
        "id": "w3dGD531K3gH"
      },
      "source": [
        "### Try it out for yourself and answer:\n",
        "1. How is the accuracy of the validation set affected if we increase the percentage of validation set? What happens when we reduce it?\n",
        "The accuracy of the validation set can be affected by increasing or reducing the percentage of data allocated to the validation set in the following ways:\n",
        "\n",
        "1. Increasing the percentage of the validation set:\n",
        "\n",
        "Positive Effects:\n",
        "\n",
        "Better generalization estimate: With a larger validation set, the accuracy tends to represent the model's performance more reliably, as it evaluates the model on a broader and more diverse set of data points.\n",
        "\n",
        "Reduced variance in results: A larger sample size reduces the influence of outliers and random fluctuations in the accuracy metric.\n",
        "\n",
        "\n",
        "Negative Effects:\n",
        "\n",
        "Reduced training data: Allocating more data to validation means less data is available for training, which can hurt the model's ability to learn complex patterns, particularly for smaller datasets. This may result in a lower-quality model, leading to reduced validation accuracy.\n",
        "\n",
        "\n",
        "\n",
        "2. Reducing the percentage of the validation set:\n",
        "\n",
        "Positive Effects:\n",
        "\n",
        "More data for training: With more data available for training, the model can potentially learn better, improving its ability to generalize.\n",
        "\n",
        "\n",
        "Negative Effects:\n",
        "\n",
        "Unreliable evaluation: A smaller validation set may not adequately represent the diversity of the dataset, leading to a less reliable estimation of the model's performance.\n",
        "\n",
        "Higher variance: The accuracy metric on a small validation set can vary significantly depending on the specific data points included, making it harder to trust.\n",
        "\n",
        "\n",
        "\n",
        "Key Considerations:\n",
        "\n",
        "Dataset size: The impact depends heavily on the overall dataset size. For small datasets, reducing the validation set size may give the model more training data but risks overfitting or unreliable validation metrics. For large datasets, the impact is generally less pronounced.\n",
        "\n",
        "Cross-validation: To mitigate these trade-offs, techniques like k-fold cross-validation can be used. This method ensures the model is evaluated on all data points without reducing the training data unnecessarily.\n",
        "\n",
        "\n",
        "In summary:\n",
        "\n",
        "A larger validation set gives a more reliable performance estimate but may reduce model quality due to less training data.\n",
        "\n",
        "A smaller validation set allows more training data but may result in unreliable evaluation metrics.\n",
        "\n",
        "\n",
        "\n",
        "2. How does the size of the train and validation set affect how well we can predict the accuracy on the test set using the validation set?\n",
        "\n",
        "The size of the train and validation sets directly influences how well the validation set's accuracy predicts the test set's accuracy. Here's how:\n",
        "\n",
        "\n",
        "---\n",
        "\n",
        "1. Size of the Training Set\n",
        "\n",
        "Larger Training Set:\n",
        "\n",
        "Positive Effect: A larger training set allows the model to learn more comprehensive patterns and generalize better, leading to a more reliable validation accuracy.\n",
        "\n",
        "Test Set Prediction: If the model is well-trained, the validation accuracy is more likely to reflect the test accuracy accurately.\n",
        "\n",
        "\n",
        "Smaller Training Set:\n",
        "\n",
        "Negative Effect: A smaller training set may result in underfitting, as the model doesn't have enough data to learn effectively. This can cause the validation accuracy to deviate significantly from the test accuracy.\n",
        "\n",
        "Test Set Prediction: Validation accuracy becomes a poor predictor of test accuracy due to an undertrained model.\n",
        "\n",
        "\n",
        "\n",
        "\n",
        "---\n",
        "\n",
        "2. Size of the Validation Set\n",
        "\n",
        "Larger Validation Set:\n",
        "\n",
        "Positive Effect: A larger validation set reduces variance and better represents the dataset's true distribution, making the validation accuracy a more reliable predictor of test accuracy.\n",
        "\n",
        "Negative Effect: However, this comes at the cost of a smaller training set, which may reduce the model's ability to generalize effectively (especially for small datasets).\n",
        "\n",
        "\n",
        "Smaller Validation Set:\n",
        "\n",
        "Positive Effect: Allocating more data to training allows the model to learn better, which could improve test performance.\n",
        "\n",
        "Negative Effect: A small validation set increases the risk of overfitting to the specific validation data and may not reflect the dataset's diversity. This leads to validation accuracy being a less reliable predictor of test accuracy.\n",
        "\n",
        "\n",
        "\n",
        "\n",
        "---\n",
        "\n",
        "Key Factors Affecting the Relationship\n",
        "\n",
        "1. Dataset Size:\n",
        "\n",
        "For large datasets, you can afford to allocate more data to both training and validation, leading to reliable validation accuracy and good generalization to the test set.\n",
        "\n",
        "For small datasets, you must carefully balance the split. Too much validation data reduces training effectiveness, while too little leads to unreliable validation metrics.\n",
        "\n",
        "\n",
        "\n",
        "2. Model Complexity:\n",
        "\n",
        "Complex models trained on small training sets are more likely to overfit, making validation accuracy less representative of test accuracy.\n",
        "\n",
        "Simpler models are more robust to such issues.\n",
        "\n",
        "\n",
        "\n",
        "3. Validation-Set Bias:\n",
        "\n",
        "If the validation set is not representative of the test set (e.g., due to poor sampling), validation accuracy will not reliably predict test accuracy, regardless of size.\n",
        "\n",
        "\n",
        "\n",
        "4. Cross-Validation:\n",
        "\n",
        "Using techniques like k-fold cross-validation provides a more robust estimate of test accuracy by averaging performance across multiple splits.\n",
        "\n",
        "\n",
        "\n",
        "\n",
        "\n",
        "---\n",
        "\n",
        "Summary\n",
        "\n",
        "A balance between training and validation sizes is crucial for validation accuracy to be a good predictor of test accuracy.\n",
        "\n",
        "A larger training set improves the model's generalization, while a larger validation set ensures the evaluation is reliable.\n",
        "\n",
        "For small datasets, techniques like cross-validation are essential to avoid trade-offs between training and validation data.\n",
        "\n",
        "\n",
        "\n",
        "3. What do you think is a good percentage to reserve for the validation set so that thest two factors are balanced?\n",
        "\n",
        "A good percentage to reserve for the validation set depends on the size of the dataset and the complexity of the model. Here are some general guidelines:\n",
        "\n",
        "\n",
        "---\n",
        "\n",
        "General Recommendation:\n",
        "\n",
        "Common Practice:\n",
        "\n",
        "Reserve 20% of the dataset for validation. This is a standard split that works well for many cases where the dataset size is moderate or large.\n",
        "\n",
        "If you also have a separate test set, you might use 10-15% for validation to maximize training data.\n",
        "\n",
        "\n",
        "\n",
        "\n",
        "---\n",
        "\n",
        "Dataset-Specific Recommendations:\n",
        "\n",
        "1. Small Datasets (<10,000 samples):\n",
        "\n",
        "Validation Set: 10-20%\n",
        "Use a smaller percentage (10-15%) to retain more data for training, but rely on techniques like k-fold cross-validation to evaluate the model robustly.\n",
        "\n",
        "\n",
        "\n",
        "2. Medium Datasets (10,000-100,000 samples):\n",
        "\n",
        "Validation Set: 15-20%\n",
        "This range provides a balance between enough training data to optimize the model and enough validation data for reliable evaluation.\n",
        "\n",
        "\n",
        "\n",
        "3. Large Datasets (>100,000 samples):\n",
        "\n",
        "Validation Set: 5-10%\n",
        "A smaller fraction is sufficient since even a small percentage represents a large number of samples, providing robust validation metrics.\n",
        "\n",
        "\n",
        "\n",
        "\n",
        "\n",
        "---\n",
        "\n",
        "Model-Specific Considerations:\n",
        "\n",
        "1. Simple Models (e.g., linear regression):\n",
        "\n",
        "Smaller validation sets (e.g., 10-15%) are fine since simpler models don't require as much data for reliable evaluation.\n",
        "\n",
        "\n",
        "\n",
        "2. Complex Models (e.g., deep neural networks):\n",
        "\n",
        "Larger validation sets (e.g., 15-20%) are better, as they need more diverse samples to provide an accurate performance estimate.\n",
        "\n",
        "\n",
        "\n",
        "\n",
        "\n",
        "---\n",
        "\n",
        "When to Adjust the Percentage:\n",
        "\n",
        "1. Increase Validation Size If:\n",
        "\n",
        "You observe high variance in validation metrics across epochs or folds.\n",
        "\n",
        "Validation accuracy doesn't align well with test accuracy, suggesting unreliable validation evaluation.\n",
        "\n",
        "\n",
        "\n",
        "2. Decrease Validation Size If:\n",
        "\n",
        "The training set is too small, causing underfitting.\n",
        "\n",
        "Cross-validation or other techniques can compensate for a smaller validation set.\n",
        "\n",
        "\n",
        "\n",
        "\n",
        "\n",
        "---\n",
        "\n",
        "Key Takeaway:\n",
        "\n",
        "Default Split: Start with 80% training, 20% validation for most datasets.\n",
        "\n",
        "Adjust based on dataset size, model complexity, and availability of a separate test set.\n",
        "\n",
        "For small datasets, prioritize cross-validation over static splits to balance training and validation needs effectively.\n",
        "\n",
        "\n",
        "\n",
        "\n",
        "Answer for both nearest neighbour and random classifier. You can note down the values for your experiments and plot a graph using  <a href=https://matplotlib.org/stable/gallery/lines_bars_and_markers/step_demo.html#sphx-glr-gallery-lines-bars-and-markers-step-demo-py>plt.plot<href>. Check also for extreme values for splits, like 99.9% or 0.1%"
      ]
    },
    {
      "cell_type": "markdown",
      "metadata": {
        "id": "M9zvdYY6evgI"
      },
      "source": [
        "> Exercise: Try to implement a 3 nearest neighbour classifier and compare the accuracy of the 1 nearest neighbour classifier and the 3 nearest neighbour classifier on the test dataset. You can use the KNeighborsClassifier class from the scikit-learn library to implement the K-Nearest Neighbors model. You can set the number of neighbors using the n_neighbors parameter. You can also use the accuracy_score function from the scikit-learn library to calculate the accuracy of the model."
      ]
    },
    {
      "cell_type": "markdown",
      "metadata": {
        "id": "PnYvkAZLQY7h"
      },
      "source": [
        "## Multiple Splits\n",
        "\n",
        "One way to get more accurate estimates for the test accuracy is by using <b>cross-validation</b>. Here, we will try a simple version, where we do multiple train/val splits and take the average of validation accuracies as the test accuracy estimation. Here is a function for doing this. Note that this function will take a long time to execute. You can reduce the number of splits to make it faster."
      ]
    },
    {
      "cell_type": "code",
      "execution_count": 15,
      "metadata": {
        "id": "E4nGCUQXBTzo"
      },
      "outputs": [],
      "source": [
        "def AverageAccuracy(alldata, alllabel, splitpercent, iterations, classifier=NN):\n",
        "    \"\"\"\n",
        "    This function takes in the data, labels, split percentage, number of iterations and classifier function\n",
        "    and returns the average accuracy of the classifier\n",
        "\n",
        "    alldata: numpy array of shape (n,d) where n is the number of samples and d is the number of features\n",
        "    alllabel: numpy array of shape (n,) where n is the number of samples\n",
        "    splitpercent: float which is the percentage of data to be used for training\n",
        "    iterations: int which is the number of iterations to run the classifier\n",
        "    classifier: function which is the classifier function to be used\n",
        "\n",
        "    returns: the average accuracy of the classifier\n",
        "    \"\"\"\n",
        "    accuracy = 0\n",
        "    for ii in range(iterations):\n",
        "        traindata, trainlabel, valdata, vallabel = split(\n",
        "            alldata, alllabel, splitpercent\n",
        "        )\n",
        "        valpred = classifier(traindata, trainlabel, valdata)\n",
        "        accuracy += Accuracy(vallabel, valpred)\n",
        "    return accuracy / iterations  # average of all accuracies"
      ]
    },
    {
      "cell_type": "code",
      "execution_count": 16,
      "metadata": {
        "colab": {
          "base_uri": "https://localhost:8080/"
        },
        "id": "H3qtNar7Bbik",
        "outputId": "a74fcb20-d6c8-4a71-9825-7509f86164b1"
      },
      "outputs": [
        {
          "output_type": "stream",
          "name": "stdout",
          "text": [
            "Average validation accuracy: 33.58463539517022 %\n",
            "Test accuracy: 34.91795366795367 %\n"
          ]
        }
      ],
      "source": [
        "avg_acc = AverageAccuracy(alltraindata, alltrainlabel, 75 / 100, 10, classifier=NN)\n",
        "print(\"Average validation accuracy:\", avg_acc*100, \"%\")\n",
        "testpred = NN(alltraindata, alltrainlabel, testdata)\n",
        "\n",
        "print(\"Test accuracy:\", Accuracy(testlabel, testpred)*100, \"%\")"
      ]
    },
    {
      "cell_type": "markdown",
      "metadata": {
        "id": "33GIn4x5VH-d"
      },
      "source": [
        "This is a very simple way of doing cross-validation. There are many well-known algorithms for cross-validation, like k-fold cross-validation, leave-one-out etc. This will be covered in detail in a later module. For more information about cross-validation, check <a href=https://en.wikipedia.org/wiki/Cross-validation_(statistics)>Cross-validatioin (Wikipedia)</a>\n",
        "\n",
        "### Questions\n",
        "1. Does averaging the validation accuracy across multiple splits give more consistent results?\n",
        "\n",
        "Yes, averaging the validation accuracy across multiple splits typically provides more consistent and reliable results. This approach, often used in cross-validation, reduces the impact of randomness and ensures that the evaluation better reflects the model's ability to generalize. Here's why:\n",
        "\n",
        "\n",
        "---\n",
        "\n",
        "Benefits of Averaging Validation Accuracy Across Splits:\n",
        "\n",
        "1. Reduces Variance:\n",
        "\n",
        "A single validation split may not be representative of the entire dataset due to random variations or an unbalanced split.\n",
        "\n",
        "Averaging over multiple splits smooths out these variations, resulting in a more consistent and reliable estimate of performance.\n",
        "\n",
        "\n",
        "\n",
        "2. Accounts for Data Distribution:\n",
        "\n",
        "By evaluating on different subsets of the data, you ensure the model is tested on a broader variety of data points. This reduces bias caused by an unrepresentative validation set.\n",
        "\n",
        "\n",
        "\n",
        "3. Improves Generalization Estimate:\n",
        "\n",
        "Averaging validation results across splits gives a better approximation of how the model will perform on unseen data (like the test set).\n",
        "\n",
        "\n",
        "\n",
        "4. Minimizes Overfitting to Validation Set:\n",
        "\n",
        "When you repeatedly train and validate on different splits, the model's performance isn't overly dependent on a specific validation set, reducing the risk of overfitting to that set.\n",
        "\n",
        "\n",
        "\n",
        "\n",
        "\n",
        "---\n",
        "\n",
        "When Is Averaging Useful?\n",
        "\n",
        "1. Small Datasets:\n",
        "\n",
        "Particularly effective for small datasets where random variations in a single split can have a significant impact.\n",
        "\n",
        "Techniques like k-fold cross-validation are ideal.\n",
        "\n",
        "\n",
        "\n",
        "2. Unbalanced Datasets:\n",
        "\n",
        "Ensures that all subsets of the data (including minority classes) are included in both training and validation, leading to fairer evaluation.\n",
        "\n",
        "\n",
        "\n",
        "\n",
        "\n",
        "---\n",
        "\n",
        "How to Average Validation Accuracy Across Splits:\n",
        "\n",
        "1. k-Fold Cross-Validation:\n",
        "\n",
        "Split the dataset into k equally sized subsets (folds).\n",
        "\n",
        "Train the model on k-1 folds and validate on the remaining fold, repeating this process k times.\n",
        "\n",
        "Average the validation accuracies across the k folds.\n",
        "\n",
        "\n",
        "\n",
        "2. Repeated Random Splits (Monte Carlo Cross-Validation):\n",
        "\n",
        "Randomly split the dataset into training and validation sets multiple times and average the validation results.\n",
        "\n",
        "\n",
        "\n",
        "\n",
        "\n",
        "---\n",
        "\n",
        "Limitations:\n",
        "\n",
        "Increased Computational Cost:\n",
        "\n",
        "Training the model multiple times for different splits can be computationally expensive, especially for large datasets or complex models.\n",
        "\n",
        "\n",
        "Dataset Size Dependency:\n",
        "\n",
        "For extremely small datasets, even averaging might not fully address issues like data scarcity or imbalance.\n",
        "\n",
        "\n",
        "\n",
        "\n",
        "---\n",
        "\n",
        "Key Takeaway:\n",
        "\n",
        "Yes, averaging validation accuracy across multiple splits is a highly effective way to obtain consistent and reliable performance estimates, especially when combined with methods like k-fold cross-validation. It provides a robust measure of how well the model is likely to generalize to unseen data.\n",
        "\n",
        "\n",
        "2. Does it give more accurate estimate of test accuracy?\n",
        "\n",
        "Yes, averaging validation accuracy across multiple splits generally provides a more accurate estimate of test accuracy compared to using a single validation split. Here's why:\n",
        "\n",
        "\n",
        "---\n",
        "\n",
        "1. Reduces the Impact of Random Splits\n",
        "\n",
        "A single validation split may not be representative of the test data distribution, especially if the dataset is small or imbalanced.\n",
        "\n",
        "Averaging across multiple splits ensures that the evaluation is based on different subsets of the data, making the results less sensitive to the specific choice of the validation set.\n",
        "\n",
        "\n",
        "\n",
        "---\n",
        "\n",
        "2. More Representative Evaluation\n",
        "\n",
        "Broader Data Coverage:\n",
        "By using multiple splits, the model is trained and validated on more diverse subsets of the dataset, capturing a wider range of patterns and edge cases. This helps align validation performance more closely with test performance.\n",
        "\n",
        "Reduced Sampling Bias:\n",
        "Any accidental biases in a single validation split are averaged out across multiple splits.\n",
        "\n",
        "\n",
        "\n",
        "---\n",
        "\n",
        "3. Handles Overfitting Risks\n",
        "\n",
        "When evaluating on a single validation set, there's a risk of the model overfitting to the specific validation data, leading to an overly optimistic performance estimate.\n",
        "\n",
        "Multiple splits mitigate this risk by preventing the model from repeatedly seeing the same validation data during training, leading to a more realistic test accuracy estimate.\n",
        "\n",
        "\n",
        "\n",
        "---\n",
        "\n",
        "4. Consistency with Test Data Distribution\n",
        "\n",
        "If the test data comes from the same distribution as the dataset used for training/validation, the averaged validation accuracy from multiple splits is more likely to approximate the true test accuracy.\n",
        "\n",
        "\n",
        "\n",
        "---\n",
        "\n",
        "Limitations to Consider\n",
        "\n",
        "Not Perfect: While averaging validation accuracy provides a better estimate, it doesn't guarantee an exact match with test accuracy. Test accuracy can still deviate due to:\n",
        "\n",
        "Differences between test and training/validation distributions (data drift).\n",
        "\n",
        "Hyperparameter tuning or design choices inadvertently overfitting to validation performance.\n",
        "\n",
        "\n",
        "Computational Cost: Cross-validation or repeated splits are computationally intensive since the model must be trained multiple times.\n",
        "\n",
        "\n",
        "\n",
        "---\n",
        "\n",
        "When Does It Work Best?\n",
        "\n",
        "Small to Medium Datasets: Averaging is especially beneficial for smaller datasets, where the test accuracy might otherwise be misestimated due to random variations in the validation set.\n",
        "\n",
        "Balanced Datasets: If the data distribution is similar across splits and to the test set, averaging is highly effective.\n",
        "\n",
        "Cross-Validation Techniques: Techniques like k-fold cross-validation ensure systematic use of the entire dataset for training and validation, enhancing the reliability of the test accuracy estimate.\n",
        "\n",
        "\n",
        "\n",
        "---\n",
        "\n",
        "Key Takeaway\n",
        "\n",
        "Averaging validation accuracy across multiple splits does provide a more accurate and reliable estimate of test accuracy, especially when combined with cross-validation techniques. However, its effectiveness depends on the dataset size, distribution, and similarity to the test set.\n",
        "\n",
        "\n",
        "3. What is the effect of the number of iterations on the estimate? Do we get a better estimate with higher iterations?\n",
        "\n",
        "Increasing the number of iterations (e.g., in cross-validation or repeated random splits) generally improves the reliability and accuracy of the test accuracy estimate, but the benefits diminish as the number of iterations becomes very large. Here's a detailed breakdown:\n",
        "\n",
        "\n",
        "---\n",
        "\n",
        "Effect of Number of Iterations:\n",
        "\n",
        "1. More Iterations Provide Better Estimates (Up to a Point):\n",
        "\n",
        "Reduced Variance: Each iteration gives an independent estimate of validation accuracy. With more iterations, the final average becomes more stable, reducing the variability of the estimate. This leads to a more consistent and reliable approximation of the test accuracy.\n",
        "\n",
        "Broader Data Coverage: More iterations ensure the model is validated on a greater variety of data splits, making the evaluation more representative of the overall dataset.\n",
        "\n",
        "\n",
        "\n",
        "2. Law of Diminishing Returns:\n",
        "\n",
        "After a certain number of iterations, additional iterations provide only marginal improvement. The estimate's accuracy becomes limited by factors such as:\n",
        "\n",
        "The inherent variability in the dataset.\n",
        "\n",
        "The similarity between the training/validation splits and the test set.\n",
        "\n",
        "\n",
        "Beyond this point, computational cost increases without significant gains in accuracy.\n",
        "\n",
        "\n",
        "\n",
        "3. Improved Confidence Intervals:\n",
        "\n",
        "With higher iterations, you can compute narrower confidence intervals for the validation accuracy, providing a better sense of how close the estimate is to the true test accuracy.\n",
        "\n",
        "\n",
        "\n",
        "\n",
        "\n",
        "---\n",
        "\n",
        "Trade-offs of Increasing Iterations:\n",
        "\n",
        "1. Positive Effects:\n",
        "\n",
        "More iterations reduce the likelihood of biased results caused by outlier splits.\n",
        "\n",
        "The estimate becomes less sensitive to random variations in how the data is split.\n",
        "\n",
        "\n",
        "\n",
        "2. Negative Effects:\n",
        "\n",
        "Computational Cost: Increasing iterations requires retraining the model multiple times, which can be time-consuming and computationally expensive, particularly for complex models or large datasets.\n",
        "\n",
        "Diminished Returns: Beyond a certain point, additional iterations have negligible impact on the estimate's accuracy.\n",
        "\n",
        "\n",
        "\n",
        "\n",
        "\n",
        "---\n",
        "\n",
        "Guidelines for Choosing the Number of Iterations:\n",
        "\n",
        "1. k-Fold Cross-Validation:\n",
        "\n",
        "A typical choice is 5-fold or 10-fold cross-validation, which provides a good balance between computational cost and accuracy of the estimate.\n",
        "\n",
        "For smaller datasets, you may consider using leave-one-out cross-validation (LOOCV) to maximize the data used for training.\n",
        "\n",
        "\n",
        "\n",
        "2. Repeated Cross-Validation:\n",
        "\n",
        "If computational resources allow, you can repeat k-fold cross-validation (e.g., 3-10 times) and average the results for even more robust estimates.\n",
        "\n",
        "\n",
        "\n",
        "3. Monte Carlo Validation:\n",
        "\n",
        "Repeatedly split the data into random training and validation sets. 30-50 iterations are often sufficient to get a reliable estimate, though the exact number depends on the dataset size and variability.\n",
        "\n",
        "\n",
        "\n",
        "\n",
        "\n",
        "---\n",
        "\n",
        "Key Takeaway:\n",
        "\n",
        "Higher iterations generally lead to better estimates of test accuracy by reducing variance and increasing reliability.\n",
        "\n",
        "However, after a certain point, the benefits diminish, and the computational cost outweighs the marginal gains.\n",
        "\n",
        "A practical number of iterations depends on the dataset size, model complexity, and available computational resources. For most cases, 5-10 k-fold cross-validation or 30-50 Monte Carlo iterations provides a robust estimate without excessive overhead.\n",
        "\n",
        "\n",
        "\n",
        "4. Consider the results you got for the previous questions. Can we deal with a very small train dataset or validation dataset by increasing the iterations?\n",
        "\n",
        "Yes, increasing the number of iterations (e.g., via techniques like repeated cross-validation) can help mitigate the challenges posed by a very small training or validation dataset. However, it is not a perfect solution and has limitations. Here’s how it helps and where it falls short:\n",
        "\n",
        "\n",
        "---\n",
        "\n",
        "How Increasing Iterations Helps with Small Datasets:\n",
        "\n",
        "1. Maximizes Data Usage:\n",
        "\n",
        "In cross-validation, every data point gets used for both training and validation across different iterations. This ensures that even with a small dataset, all data contributes to model training and evaluation at some point.\n",
        "\n",
        "\n",
        "\n",
        "2. Improves Estimate Stability:\n",
        "\n",
        "Repeating iterations averages out random noise or bias caused by specific training or validation splits, leading to a more reliable estimate of model performance.\n",
        "\n",
        "\n",
        "\n",
        "3. Reduces Overfitting to Validation Set:\n",
        "\n",
        "With more iterations, the model is validated on a variety of splits, reducing the chance that the validation performance is overly dependent on a specific subset of data.\n",
        "\n",
        "\n",
        "\n",
        "4. Addresses Limited Validation Data:\n",
        "\n",
        "A small validation dataset might not represent the overall distribution well. By increasing iterations, you validate the model on different subsets, creating a more comprehensive evaluation.\n",
        "\n",
        "\n",
        "\n",
        "\n",
        "\n",
        "---\n",
        "\n",
        "Limitations of Increasing Iterations for Small Datasets:\n",
        "\n",
        "1. Does Not Create New Data:\n",
        "\n",
        "Repeatedly splitting a small dataset cannot compensate for the lack of diversity or representativeness in the dataset itself. If the data is inherently limited or imbalanced, even many iterations won’t overcome this issue.\n",
        "\n",
        "\n",
        "\n",
        "2. Training Data Limitation:\n",
        "\n",
        "In cross-validation, the training set remains small in each iteration (e.g., in 10-fold cross-validation, 90% of the data is used for training). Increasing iterations does not address the fundamental limitation of having insufficient data for learning complex patterns.\n",
        "\n",
        "\n",
        "\n",
        "3. Overfitting Risk in Small Datasets:\n",
        "\n",
        "A very small dataset increases the likelihood of overfitting during training, especially with high-capacity models. Cross-validation helps assess overfitting but doesn’t prevent it.\n",
        "\n",
        "\n",
        "\n",
        "4. Computational Cost:\n",
        "\n",
        "Small datasets often require complex models to achieve good performance, making repeated training and validation computationally expensive.\n",
        "\n",
        "\n",
        "\n",
        "\n",
        "\n",
        "---\n",
        "\n",
        "Strategies to Complement Iteration Increases:\n",
        "\n",
        "1. Data Augmentation (for small training datasets):\n",
        "\n",
        "For tasks like image or text classification, generate synthetic data through augmentation techniques to artificially increase the size of the training set.\n",
        "\n",
        "\n",
        "\n",
        "2. Simpler Models:\n",
        "\n",
        "Use simpler models or regularization techniques to reduce overfitting when training on small datasets.\n",
        "\n",
        "\n",
        "\n",
        "3. Transfer Learning:\n",
        "\n",
        "Pretrained models can leverage knowledge from a larger dataset and adapt to the small dataset, reducing the reliance on extensive training data.\n",
        "\n",
        "\n",
        "\n",
        "4. Bootstrapping (for small validation datasets):\n",
        "\n",
        "Instead of increasing iterations, use bootstrap sampling to repeatedly evaluate the model on random subsets of the validation data, creating a distribution of performance estimates.\n",
        "\n",
        "\n",
        "\n",
        "5. Bayesian Methods:\n",
        "\n",
        "Bayesian approaches can incorporate uncertainty into predictions, which is particularly useful for small datasets.\n",
        "\n",
        "\n",
        "\n",
        "\n",
        "\n",
        "---\n",
        "\n",
        "Key Takeaway:\n",
        "\n",
        "Increasing iterations can help extract maximum value from a small training or validation dataset by providing more robust and stable performance estimates. However, it does not solve fundamental issues like lack of diversity, imbalance, or insufficient data for learning complex patterns. Combining increased iterations with complementary techniques (e.g., data augmentation, transfer learning, or simpler models) is the most effective approach for dealing with small datasets."
      ]
    },
    {
      "cell_type": "markdown",
      "metadata": {
        "id": "z-SBxy1qevgJ"
      },
      "source": [
        "> Exercise: How does the accuracy of the 3 nearest neighbour classifier change with the number of splits? How is it affected by the split size? Compare the results with the 1 nearest neighbour classifier."
      ]
    }
  ],
  "metadata": {
    "colab": {
      "provenance": [],
      "include_colab_link": true
    },
    "kernelspec": {
      "display_name": "Python 3",
      "name": "python3"
    },
    "language_info": {
      "codemirror_mode": {
        "name": "ipython",
        "version": 3
      },
      "file_extension": ".py",
      "mimetype": "text/x-python",
      "name": "python",
      "nbconvert_exporter": "python",
      "pygments_lexer": "ipython3",
      "version": "3.10.10"
    }
  },
  "nbformat": 4,
  "nbformat_minor": 0
}